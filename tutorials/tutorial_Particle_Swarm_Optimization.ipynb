{
 "cells": [
  {
   "cell_type": "markdown",
   "metadata": {},
   "source": [
    "# Introduction\n",
    "\n",
    "In this Juptyer Notebook file, we will introduce the _Particle Swarm Optimization_ technique, stored in `qittoolbox.algorithms.pso` . "
   ]
  },
  {
   "cell_type": "code",
   "execution_count": 1,
   "metadata": {},
   "outputs": [
    {
     "name": "stdout",
     "output_type": "stream",
     "text": [
      "[info] : [set_loglevel] : set loglevel to `info`\n"
     ]
    }
   ],
   "source": [
    "from qittoolbox.algorithms.pso import pso_sphere\n",
    "from qittoolbox.algorithms.misc import von_neumann_entropy_gradient as gradient_helper\n",
    "from qittoolbox.algorithms.misc.algorithm_helper_functions import get_complex_vector_from_coords_multi, get_density_matrix_from_vector_multi, get_von_neumann_entropy_multi\n",
    "\n",
    "import qittoolbox.cqgchannels.SNpluschannel as channel\n",
    "from qittoolbox.qfunctions.qfunctions import q0_bracket\n",
    "from qittoolbox.linalg import basis_transformation\n",
    "\n",
    "\n",
    "from math import sqrt\n",
    "import numpy as np\n",
    "\n",
    "from qittoolbox.logging.logger import set_loglevel\n",
    "set_loglevel('info')"
   ]
  },
  {
   "cell_type": "markdown",
   "metadata": {},
   "source": [
    "## Case study: $N = 5$, $(k,l,m) = (2,1,1)$, $S_N^+$-channel $\\hat{\\Phi}_{k}^{(l),m}$\n",
    "\n",
    "Let us investigate how the Particle Swarm Optimization technique is applied to an $S_N^+$-quantum channel:"
   ]
  },
  {
   "cell_type": "code",
   "execution_count": 2,
   "metadata": {},
   "outputs": [],
   "source": [
    "N = 5\n",
    "k = 2\n",
    "l = 1\n",
    "m = 1\n",
    "trace_out_first = True\n",
    "n_particles = 300\n",
    "maxiter = 100\n",
    "\n",
    "log_N = 10\n",
    "\n",
    "channel_name = f'N{N}_k{k}_l{l}_m{m}_first{trace_out_first}'\n",
    "\n",
    "pk = channel.get_Jones_Wenzl_projection_NC(k,N=N)\n",
    "dim_pk = q0_bracket(2*k+1,N=sqrt(N))\n",
    "rank_in = dim_pk\n",
    "isom_in = basis_transformation.get_isometry_from_range_space_proj(pk, rank_in)\n",
    "\n",
    "# Get the real dimensions...\n",
    "n_dim = 2*dim_pk-1\n",
    "\n",
    "#Get the channel description\n",
    "kraus_ops = channel.get_kraus_ops(k,l,m,N=N,trace_out_first=trace_out_first)\n",
    "kraus_ops_dense = [x.A for x in kraus_ops]\n",
    "kraus_ops_H = [ x.getH().A for x in kraus_ops ]\n",
    "\n",
    "isom_in_H = np.conj(isom_in.T)\n",
    "\n",
    "def channel_function_single(rho_in: np.ndarray) -> np.ndarray:\n",
    "    rho_in_larger = np.einsum('jk,kl->jl', np.einsum('ij,jl->il', isom_in, rho_in) , isom_in_H )\n",
    "    return sum( np.einsum('jk,kl->jl', np.einsum('ij,jl->il',x,rho_in_larger), x_H) for x,x_H in zip(kraus_ops_dense,kraus_ops_H) )\n",
    "\n",
    "def channel_function(rho_in: np.ndarray) -> np.ndarray:\n",
    "    rho_in_larger = np.einsum('ijk,kl->ijl', np.einsum('ij,kjl->kil', isom_in, rho_in) , isom_in_H )\n",
    "    return sum( np.einsum('ijk,kl->ijl', np.einsum('ij,kjl->kil',x,rho_in_larger), x_H) for x,x_H in zip(kraus_ops_dense,kraus_ops_H) )\n",
    "\n",
    "def grad_channel_function(x: np.ndarray) -> np.ndarray:\n",
    "    return gradient_helper.grad_vne_channel(channel_name, x, channel_function_single)   \n",
    "\n",
    "def cost_channel_function(x: np.ndarray) -> np.ndarray:\n",
    "    \"\"\"(dim,n_particles) --> (n_particles,) cost function\"\"\"\n",
    "    vectors = get_complex_vector_from_coords_multi(x)\n",
    "    density_mats = get_density_matrix_from_vector_multi(vectors,make_copy=False)\n",
    "    density_mats_out = channel_function(density_mats)\n",
    "    return get_von_neumann_entropy_multi(density_mats_out)"
   ]
  },
  {
   "cell_type": "code",
   "execution_count": 3,
   "metadata": {},
   "outputs": [
    {
     "name": "stdout",
     "output_type": "stream",
     "text": [
      "[info] : [pso_sphere] PSO running with the following parameters: \n",
      "{'n_particles': 300, 'maxiter': 100, 'log_N': 10, 'nostalgia': 0.5, 'social': 0.1, 'inertial_weight': <function pso_sphere.<locals>.<lambda> at 0x000001D379050B80>, 'stopping_criterion': <function pso_sphere.<locals>.<lambda> at 0x000001D379050C10>, 'upper_bound_vel': 0.5, 'history_depth': 0}\n",
      "[info] : [pso_sphere] After init, found best cost ct = 0.5334230246512015 located at index it = 256\n",
      "[info] : [pso_sphere] Initialized, now starting the loop...\n",
      "[info] : [pso_sphere]   % done        idx       weight                     ct         it         time\n",
      "[info] : [pso_sphere]     10.0         10    1.000e+00     3.246748452099e-01        255          0.3\n",
      "[info] : [pso_sphere]     20.0         20    1.000e+00     1.928110014215e-01        120          0.6\n",
      "[info] : [pso_sphere]     30.0         30    1.000e+00     8.705562527193e-02        195          0.9\n",
      "[info] : [pso_sphere]     40.0         40    1.000e+00     5.362049220411e-02        282          1.2\n",
      "[info] : [pso_sphere]     50.0         50    1.000e+00     3.784241034573e-02         64          1.5\n",
      "[info] : [pso_sphere]     60.0         60    1.000e+00     2.138523192146e-02         89          1.9\n",
      "[info] : [pso_sphere]     70.0         70    1.000e+00     1.315279642969e-02        104          2.2\n",
      "[info] : [pso_sphere]     80.0         80    1.000e+00     7.552972402464e-03        287          2.5\n",
      "[info] : [pso_sphere]     90.0         90    1.000e+00     4.201965440403e-03        290          2.8\n",
      "[info] : [pso_sphere]    100.0        100    1.000e+00     1.903655168203e-03        266          3.1\n",
      "[info] : --------------------------------------------------------------------------------------------\n",
      "[info] : [pso_sphere]    100.0        100    1.000e+00     1.784969911369e-03        266          3.1\n"
     ]
    }
   ],
   "source": [
    "output = pso_sphere.pso_sphere(cost_channel_function, n_dim, n_particles=n_particles, maxiter=maxiter, log_N=log_N)"
   ]
  },
  {
   "cell_type": "markdown",
   "metadata": {},
   "source": [
    "The output variable `output` contains information about the current best position (`'gt'`), but also the current best cost (`'ct'`), and if the `history_depth` flag is set to a positive integer, it contains the last positions of all particles in `xt_hist`, up to a depth specified by `history_depth`."
   ]
  },
  {
   "cell_type": "code",
   "execution_count": 4,
   "metadata": {},
   "outputs": [
    {
     "data": {
      "text/plain": [
       "dict_keys(['curr_idx', 'xt', 'vt', 'ft', 'pt', 'it', 'ct', 'gt', 'xt_hist', 'vt_hist', 'vt_proj_hist'])"
      ]
     },
     "execution_count": 4,
     "metadata": {},
     "output_type": "execute_result"
    }
   ],
   "source": [
    "output.keys()"
   ]
  }
 ],
 "metadata": {
  "interpreter": {
   "hash": "d41445a2ae121414c5cbf037744a6f2bb5eb747f664870c485c2e34b9000fa6f"
  },
  "kernelspec": {
   "display_name": "Python 3.9.6 64-bit",
   "language": "python",
   "name": "python3"
  },
  "language_info": {
   "codemirror_mode": {
    "name": "ipython",
    "version": 3
   },
   "file_extension": ".py",
   "mimetype": "text/x-python",
   "name": "python",
   "nbconvert_exporter": "python",
   "pygments_lexer": "ipython3",
   "version": "3.9.6"
  },
  "orig_nbformat": 4
 },
 "nbformat": 4,
 "nbformat_minor": 2
}
