{
 "cells": [
  {
   "cell_type": "markdown",
   "metadata": {},
   "source": [
    "# Introduction\n",
    "\n",
    "In this Juptyer Notebook file, we will introduce the $\\epsilon$-_covers_ , stored in `qittoolbox.algorithms.epscover` . \n",
    "\n",
    "The epsilon cover code, stored in `epsilon_cover_snellius.py`, is meant to be run as an independent program (not imported as a module). Therefore, in general, one would open a command prompt and execute the command:\n",
    "    python -m qittoolbox.algorithms.epscover.epsilon_cover_snellius 0.075 4\n",
    "\n",
    "Here, the first parameter passed is the $\\epsilon$ accuracy required. The second parameter specifies how many processes will start, as this is a multiprocessing application. Please be careful to set this value correctly!\n",
    "\n",
    "For the purposes of this demonstration, we will run a subprocess from the Jupyter Notebook that actually calls this Python script. Note that `epsilon_cover_snellius.py` outputs log files in the folder from which it was started. These logfiles contain valuable information, and it does not output anything else!"
   ]
  },
  {
   "cell_type": "code",
   "execution_count": 3,
   "metadata": {},
   "outputs": [
    {
     "name": "stdout",
     "output_type": "stream",
     "text": [
      "START PROGRAM. VERSION = 1.0.1. DATE = 2022-06-22 22:29:41.073336\n",
      "N_workers=8,eps=0.075,N=4,n_dim=5,delta=0.0375,t1=43,t2=84,size=5792810,Delta=724101\n",
      "Started process <Process name='Process-1' parent=9464 initial> for indices 0 <= idx <= 724100.\n",
      "Started process <Process name='Process-2' parent=9464 initial> for indices 724101 <= idx <= 1448201.\n",
      "Started process <Process name='Process-3' parent=9464 initial> for indices 1448202 <= idx <= 2172302.\n",
      "Started process <Process name='Process-4' parent=9464 initial> for indices 2172303 <= idx <= 2896403.\n",
      "Started process <Process name='Process-5' parent=9464 initial> for indices 2896404 <= idx <= 3620504.\n",
      "Started process <Process name='Process-6' parent=9464 initial> for indices 3620505 <= idx <= 4344605.\n",
      "Started process <Process name='Process-7' parent=9464 initial> for indices 4344606 <= idx <= 5068706.\n",
      "Started process <Process name='Process-8' parent=9464 initial> for indices 5068707 <= idx <= 5792809.\n",
      "We have successfully set up all processes. Now starting them...\n",
      "Started process <Process name='Process-1' pid=25352 parent=9464 started>.\n",
      "Started process <Process name='Process-2' pid=18364 parent=9464 started>.\n",
      "Started process <Process name='Process-3' pid=28620 parent=9464 started>.\n",
      "Started process <Process name='Process-4' pid=25224 parent=9464 started>.\n",
      "Started process <Process name='Process-5' pid=31948 parent=9464 started>.\n",
      "Started process <Process name='Process-6' pid=3044 parent=9464 started>.\n",
      "Started process <Process name='Process-7' pid=13704 parent=9464 started>.\n",
      "Started process <Process name='Process-8' pid=916 parent=9464 started>.\n",
      "We have successfully started all processes. Now waiting for them to finish...\n",
      "Now waiting for the join on idx=0 process=<Process name='Process-1' pid=25352 parent=9464 started>...\n",
      "Now waiting for the join on idx=1 process=<Process name='Process-2' pid=18364 parent=9464 stopped exitcode=0>...\n",
      "Now waiting for the join on idx=2 process=<Process name='Process-3' pid=28620 parent=9464 stopped exitcode=0>...\n",
      "Now waiting for the join on idx=3 process=<Process name='Process-4' pid=25224 parent=9464 stopped exitcode=0>...\n",
      "Now waiting for the join on idx=4 process=<Process name='Process-5' pid=31948 parent=9464 stopped exitcode=0>...\n",
      "Now waiting for the join on idx=5 process=<Process name='Process-6' pid=3044 parent=9464 stopped exitcode=0>...\n",
      "Now waiting for the join on idx=6 process=<Process name='Process-7' pid=13704 parent=9464 stopped exitcode=0>...\n",
      "Now waiting for the join on idx=7 process=<Process name='Process-8' pid=916 parent=9464 stopped exitcode=0>...\n",
      "best_pid_overall=25224,best_idx_overall=2847424,best_vNE_overall=0.693147180559945\n",
      "END\n"
     ]
    }
   ],
   "source": [
    "#python -m qittoolbox.algorithms.epscover.epsilon_net_snellius 0.075 4\n",
    "import subprocess\n",
    "\n",
    "process = subprocess.call(['python', '-m', 'qittoolbox.algorithms.epscover.epsilon_net_snellius', '0.075', '8'], stdout=subprocess.PIPE)\n",
    "\n",
    "with open('log_superproc.log','r') as f:\n",
    "    print('\\n'.join([x.strip() for x in f.readlines()]))\n"
   ]
  }
 ],
 "metadata": {
  "interpreter": {
   "hash": "d41445a2ae121414c5cbf037744a6f2bb5eb747f664870c485c2e34b9000fa6f"
  },
  "kernelspec": {
   "display_name": "Python 3.9.6 64-bit",
   "language": "python",
   "name": "python3"
  },
  "language_info": {
   "codemirror_mode": {
    "name": "ipython",
    "version": 3
   },
   "file_extension": ".py",
   "mimetype": "text/x-python",
   "name": "python",
   "nbconvert_exporter": "python",
   "pygments_lexer": "ipython3",
   "version": "3.9.6"
  },
  "orig_nbformat": 4
 },
 "nbformat": 4,
 "nbformat_minor": 2
}
