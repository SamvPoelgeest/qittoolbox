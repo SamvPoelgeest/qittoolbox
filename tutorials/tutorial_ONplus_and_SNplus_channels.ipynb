{
 "cells": [
  {
   "cell_type": "markdown",
   "metadata": {},
   "source": [
    "# Introduction\n",
    "\n",
    "In this Juptyer Notebook file, we will introduce the subpackage of _compact quantum group channels_, stored in `qittoolbox.cqgchannels` . "
   ]
  },
  {
   "cell_type": "code",
   "execution_count": 1,
   "metadata": {},
   "outputs": [],
   "source": [
    "import numpy as np\n",
    "import scipy\n",
    "\n",
    "# Import the channel methods:\n",
    "from qittoolbox.cqgchannels import BC16channel, SNpluschannel"
   ]
  },
  {
   "cell_type": "markdown",
   "metadata": {},
   "source": [
    "## The Jones-Wenzl projection\n",
    "The Jones-Wenzl projections $p_k$ (for $O_N^+$) and $\\hat{p}_k$ (for $S_N^+$) are encoded in the methods `BC16channel.get_Jones_Wenzl_projection` and `SNpluschannel.get_Jones_Wenzl_projection_NC` , where `_NC` refers to the fact that the representation theory of $S_N^+$ is connected to the category of _non-crossing_ partitions."
   ]
  },
  {
   "cell_type": "code",
   "execution_count": 2,
   "metadata": {},
   "outputs": [
    {
     "name": "stdout",
     "output_type": "stream",
     "text": [
      "True True True True\n"
     ]
    }
   ],
   "source": [
    "N = 5\n",
    "k = 2\n",
    "pk = BC16channel.get_Jones_Wenzl_projection(k,N=N)\n",
    "hat_pk = SNpluschannel.get_Jones_Wenzl_projection_NC(k,N=N)\n",
    "\n",
    "# The returned values are scipy.sparse matrices, so in order to use numpy methods, you must first turn them to dense arrays or matrices!\n",
    "pk_dense = pk.todense()\n",
    "hat_pk_dense = hat_pk.todense()\n",
    "\n",
    "# Check whether these operators are truly projections\n",
    "print( np.allclose(pk_dense@pk_dense,pk_dense) , np.allclose(np.conj(pk_dense.T),pk_dense) , np.allclose(hat_pk_dense@hat_pk_dense,hat_pk_dense), np.allclose(np.conj(hat_pk_dense.T), hat_pk_dense )  )"
   ]
  },
  {
   "cell_type": "markdown",
   "metadata": {},
   "source": [
    "## Kraus operators that describe the channels $\\Phi_k^{(l),m}$ and $\\hat{\\Phi}_k^{(l),m}$\n",
    "\n",
    "The Kraus operators $\\{ E_i \\}$ and $\\{F_i\\}$ that describe the $O_N^+$-channels $\\Phi_k^{(l),m}$ and $S_N^+$-channels $\\hat{\\Phi}_k^{(l),m}$ can be accessed as follows:"
   ]
  },
  {
   "cell_type": "code",
   "execution_count": 3,
   "metadata": {},
   "outputs": [
    {
     "name": "stdout",
     "output_type": "stream",
     "text": [
      "[debug] : [get_Jones_Wenzl_projection] Using memoization to find p_k for (k,N) = (2, 5).\n",
      "[debug] : [get_Jones_Wenzl_projection_NC] Using memoization for (k,N) = (2,5).\n",
      "[debug] : [get_Jones_Wenzl_projection] Using memoization to find p_k for (k,N) = (2, 5).\n",
      "[debug] : [get_Jones_Wenzl_projection] Using memoization to find p_k for (k,N) = (2, 5).\n",
      "[debug] : [get_Jones_Wenzl_projection] Using memoization to find p_k for (k,N) = (2, 5).\n",
      "[debug] : [get_Jones_Wenzl_projection_NC] Using memoization for (k,N) = (2,5).\n",
      "[debug] : [get_Jones_Wenzl_projection_NC] Using memoization for (k,N) = (2,5).\n",
      "[debug] : [get_Jones_Wenzl_projection_NC] Using memoization for (k,N) = (2,5).\n",
      "True True\n"
     ]
    }
   ],
   "source": [
    "k,l,m = 2,4,2\n",
    "N = 5\n",
    "pk = BC16channel.get_Jones_Wenzl_projection(k,N=N)\n",
    "pk_hat = SNpluschannel.get_Jones_Wenzl_projection_NC(k,N=N)\n",
    "\n",
    "kraus_ops = BC16channel.get_kraus_ops(k,l,m,N=N)\n",
    "kraus_ops_hat = SNpluschannel.get_kraus_ops(k,l,m,N=N)\n",
    "\n",
    "# Check whether the Kraus operators are a valid representation. Note that the input space is the subspace p_k H^{\\otimes k}, not H^{\\otimes k} itself!\n",
    "sum_ops = sum( x.getH() @ x for x in kraus_ops )\n",
    "sum_ops_hat = sum( x.getH() @ x for x in kraus_ops_hat )\n",
    "print( np.allclose( sum_ops.todense(), pk.todense() ) , np.allclose( sum_ops_hat.todense(), pk_hat.todense() ) )"
   ]
  },
  {
   "cell_type": "markdown",
   "metadata": {},
   "source": [
    "As seen in the previous code section, the Kraus operators are a valid description from the input space $p_k \\mathcal{H}^{\\otimes k}$, not $\\mathcal{H}^{\\otimes k}$ itself: they do not sum to the identity, but rather to $p_k$. \n",
    "\n",
    "To take this into account, we can use an isometric isomorphism $V_k : \\mathbb{C}^{d} \\to p_k \\mathcal{H}^{\\otimes k}$, where $d = \\dim ( p_k \\mathcal{H}^{\\otimes k}) = [k+1]_q$, with the properties: $V_k^* V_k = \\iota_{\\mathbb{C}^d}$ , and $V_k V_k^* = p_k$."
   ]
  },
  {
   "cell_type": "code",
   "execution_count": 4,
   "metadata": {},
   "outputs": [
    {
     "name": "stdout",
     "output_type": "stream",
     "text": [
      "True True\n",
      "True True\n",
      "True True\n"
     ]
    }
   ],
   "source": [
    "from qittoolbox.linalg import basis_transformation\n",
    "from qittoolbox.qfunctions import qfunctions\n",
    "from math import sqrt\n",
    "\n",
    "rank_pk = qfunctions.q0_bracket(k+1,N=N)\n",
    "rank_pk_hat = qfunctions.q0_bracket(2*k+1,N=sqrt(N))\n",
    "\n",
    "# Note that the Vk and Vk_hat are *dense* np.array's, not sparse, as there is no reason to assume any sparsity!\n",
    "Vk = basis_transformation.get_isometry_from_range_space_proj(pk,rank_pk)\n",
    "Vk_hat = basis_transformation.get_isometry_from_range_space_proj(pk_hat,rank_pk_hat)\n",
    "\n",
    "Vk_H = np.conj(Vk.T)\n",
    "Vk_hat_H = np.conj(Vk_hat.T)\n",
    "\n",
    "# Check whether the isometries are indeed isometries that satisfy the required conditions.\n",
    "print( np.allclose( Vk_H @ Vk, np.eye(rank_pk) ) , np.allclose(Vk @ Vk_H, pk.todense()) )\n",
    "print( np.allclose( Vk_hat_H @ Vk_hat, np.eye(rank_pk_hat) ) , np.allclose( Vk_hat @ Vk_hat_H, pk_hat.todense()) )\n",
    "\n",
    "\n",
    "small_kraus_ops = [ Vk_H @ x @ Vk for x in kraus_ops ]\n",
    "small_kraus_ops_hat = [ Vk_hat_H @ x @ Vk_hat for x in kraus_ops_hat ]\n",
    "\n",
    "# Check whether the Kraus operators are now a valid representation on the smaller space\n",
    "small_sum_ops = sum( np.conj(x.T) @ x for x in small_kraus_ops )\n",
    "small_sum_ops_hat = sum( np.conj(x.T) @ x for x in small_kraus_ops_hat )\n",
    "print( np.allclose( small_sum_ops, np.eye(rank_pk) ) , np.allclose( small_sum_ops_hat, np.eye(rank_pk_hat) ) )"
   ]
  }
 ],
 "metadata": {
  "interpreter": {
   "hash": "d41445a2ae121414c5cbf037744a6f2bb5eb747f664870c485c2e34b9000fa6f"
  },
  "kernelspec": {
   "display_name": "Python 3.9.6 64-bit",
   "language": "python",
   "name": "python3"
  },
  "language_info": {
   "codemirror_mode": {
    "name": "ipython",
    "version": 3
   },
   "file_extension": ".py",
   "mimetype": "text/x-python",
   "name": "python",
   "nbconvert_exporter": "python",
   "pygments_lexer": "ipython3",
   "version": "3.9.6"
  },
  "orig_nbformat": 4
 },
 "nbformat": 4,
 "nbformat_minor": 2
}
